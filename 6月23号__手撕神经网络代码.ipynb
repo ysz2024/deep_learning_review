{
  "nbformat": 4,
  "nbformat_minor": 0,
  "metadata": {
    "colab": {
      "provenance": []
    },
    "kernelspec": {
      "name": "python3",
      "display_name": "Python 3"
    },
    "language_info": {
      "name": "python"
    }
  },
  "cells": [
    {
      "cell_type": "code",
      "execution_count": 40,
      "metadata": {
        "id": "RxF39fRFLl4T"
      },
      "outputs": [],
      "source": [
        "import torch\n",
        "import torch.nn as nn"
      ]
    },
    {
      "cell_type": "code",
      "source": [
        "# 定义神经网络结构\n",
        "class SimpleNet(nn.Module):\n",
        "  def __init__(self):\n",
        "    super().__init__()\n",
        "    self.hidden_layer = nn.Linear(2,2)\n",
        "    self.output_layer = nn.Linear(2,1)\n",
        "    self.activation = nn.Sigmoid()\n",
        "\n",
        "  def forward(self,x):\n",
        "    x = self.hidden_layer(x)\n",
        "    x = self.activation(x)\n",
        "    x = self.output_layer(x)\n",
        "    x = self.activation(x)\n",
        "    return x\n",
        "\n"
      ],
      "metadata": {
        "id": "U62sthdZLx1x"
      },
      "execution_count": 41,
      "outputs": []
    },
    {
      "cell_type": "code",
      "source": [
        "# 实例化模型\n",
        "model = SimpleNet()\n",
        "with torch.no_grad():\n",
        "  model.hidden_layer.weight.copy_(torch.tensor([[0.15,0.20],\n",
        "                                              [0.25,0.30]]))\n",
        "  model.hidden_layer.bias.copy_(torch.tensor([0.35,0.45]))\n",
        "\n",
        "  model.output_layer.weight.copy_(torch.tensor([0.40,0.45]))\n",
        "  model.output_layer.bias.copy_(torch.tensor([0.60]))\n",
        "\n",
        "\n",
        "input = torch.tensor([[0.05,0.10],\n",
        "                     [0.80,0.20]])\n",
        "targets = torch.tensor([[0.01],\n",
        "                       [0.99]])\n",
        "learning_rate = 0.5\n",
        "\n",
        "optimizer = torch.optim.SGD(model.parameters(),lr = learning_rate)\n",
        "\n",
        "def manual_mse_loss(output,target):\n",
        "  return 0.5 * torch.mean((target-output) **2)\n",
        "\n"
      ],
      "metadata": {
        "id": "sSop1dd5MBEb"
      },
      "execution_count": 42,
      "outputs": []
    },
    {
      "cell_type": "code",
      "source": [
        "optimizer.zero_grad()\n",
        "\n",
        "# 进行前向传播\n",
        "predictions = model(input)\n",
        "loss = manual_mse_loss(predictions, targets)\n",
        "\n",
        "\n",
        "# 进行反向传播\n",
        "loss.backward()\n",
        "\n",
        "optimizer.step()"
      ],
      "metadata": {
        "id": "g80ic7eAR3PG"
      },
      "execution_count": 43,
      "outputs": []
    },
    {
      "cell_type": "code",
      "source": [
        "with torch.no_grad():\n",
        "  #sample = torch.tensor([0.05,0.10])\n",
        "  predictions_new = model(input)\n",
        "  new_loss = 0.5 * torch.mean((targets - predictions_new) ** 2)"
      ],
      "metadata": {
        "id": "c53wzrZM4gEg"
      },
      "execution_count": 44,
      "outputs": []
    },
    {
      "cell_type": "code",
      "source": [
        "print(f\"更新前的loss: {loss.item()}\")\n",
        "print(f\"更新后的loss: {new_loss.item()}\")\n",
        "\n"
      ],
      "metadata": {
        "colab": {
          "base_uri": "https://localhost:8080/"
        },
        "id": "b3fYvLDS4f8b",
        "outputId": "7698faf6-668d-43d2-a364-1e5816cbe9c3"
      },
      "execution_count": 45,
      "outputs": [
        {
          "output_type": "stream",
          "name": "stdout",
          "text": [
            "更新前的loss: 0.15139411389827728\n",
            "更新后的loss: 0.14942243695259094\n"
          ]
        }
      ]
    }
  ]
}